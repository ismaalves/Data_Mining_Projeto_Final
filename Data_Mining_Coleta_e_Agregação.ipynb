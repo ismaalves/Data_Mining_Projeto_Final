{
  "nbformat": 4,
  "nbformat_minor": 0,
  "metadata": {
    "colab": {
      "provenance": []
    },
    "kernelspec": {
      "name": "python3",
      "display_name": "Python 3"
    },
    "language_info": {
      "name": "python"
    },
    "widgets": {
      "application/vnd.jupyter.widget-state+json": {
        "7ee3118d395c4326b7bfbb9d1be65bbf": {
          "model_module": "@jupyter-widgets/controls",
          "model_name": "TextModel",
          "model_module_version": "1.5.0",
          "state": {
            "_dom_classes": [],
            "_model_module": "@jupyter-widgets/controls",
            "_model_module_version": "1.5.0",
            "_model_name": "TextModel",
            "_view_count": null,
            "_view_module": "@jupyter-widgets/controls",
            "_view_module_version": "1.5.0",
            "_view_name": "TextView",
            "continuous_update": true,
            "description": "Cidade:",
            "description_tooltip": null,
            "disabled": false,
            "layout": "IPY_MODEL_3f9e658cd9b44b39b977077674026b1c",
            "placeholder": "Digite o nome da Cidade (ex: Nome da Cidade - UF)",
            "style": "IPY_MODEL_2a7c0aa9899f47eb9c7d7cae9d2a070f",
            "value": ""
          }
        },
        "3f9e658cd9b44b39b977077674026b1c": {
          "model_module": "@jupyter-widgets/base",
          "model_name": "LayoutModel",
          "model_module_version": "1.2.0",
          "state": {
            "_model_module": "@jupyter-widgets/base",
            "_model_module_version": "1.2.0",
            "_model_name": "LayoutModel",
            "_view_count": null,
            "_view_module": "@jupyter-widgets/base",
            "_view_module_version": "1.2.0",
            "_view_name": "LayoutView",
            "align_content": null,
            "align_items": null,
            "align_self": null,
            "border": null,
            "bottom": null,
            "display": null,
            "flex": null,
            "flex_flow": null,
            "grid_area": null,
            "grid_auto_columns": null,
            "grid_auto_flow": null,
            "grid_auto_rows": null,
            "grid_column": null,
            "grid_gap": null,
            "grid_row": null,
            "grid_template_areas": null,
            "grid_template_columns": null,
            "grid_template_rows": null,
            "height": null,
            "justify_content": null,
            "justify_items": null,
            "left": null,
            "margin": null,
            "max_height": null,
            "max_width": null,
            "min_height": null,
            "min_width": null,
            "object_fit": null,
            "object_position": null,
            "order": null,
            "overflow": null,
            "overflow_x": null,
            "overflow_y": null,
            "padding": null,
            "right": null,
            "top": null,
            "visibility": null,
            "width": "500px"
          }
        },
        "2a7c0aa9899f47eb9c7d7cae9d2a070f": {
          "model_module": "@jupyter-widgets/controls",
          "model_name": "DescriptionStyleModel",
          "model_module_version": "1.5.0",
          "state": {
            "_model_module": "@jupyter-widgets/controls",
            "_model_module_version": "1.5.0",
            "_model_name": "DescriptionStyleModel",
            "_view_count": null,
            "_view_module": "@jupyter-widgets/base",
            "_view_module_version": "1.2.0",
            "_view_name": "StyleView",
            "description_width": ""
          }
        },
        "ad740312823c42a49517dcf76bff7a2a": {
          "model_module": "@jupyter-widgets/controls",
          "model_name": "ButtonModel",
          "model_module_version": "1.5.0",
          "state": {
            "_dom_classes": [],
            "_model_module": "@jupyter-widgets/controls",
            "_model_module_version": "1.5.0",
            "_model_name": "ButtonModel",
            "_view_count": null,
            "_view_module": "@jupyter-widgets/controls",
            "_view_module_version": "1.5.0",
            "_view_name": "ButtonView",
            "button_style": "",
            "description": "Adicionar Cidade",
            "disabled": false,
            "icon": "",
            "layout": "IPY_MODEL_577d3aa31a8e43d49adaa90eb9adddda",
            "style": "IPY_MODEL_62bc8df1d1c34a83bada6a10654bbf17",
            "tooltip": ""
          }
        },
        "577d3aa31a8e43d49adaa90eb9adddda": {
          "model_module": "@jupyter-widgets/base",
          "model_name": "LayoutModel",
          "model_module_version": "1.2.0",
          "state": {
            "_model_module": "@jupyter-widgets/base",
            "_model_module_version": "1.2.0",
            "_model_name": "LayoutModel",
            "_view_count": null,
            "_view_module": "@jupyter-widgets/base",
            "_view_module_version": "1.2.0",
            "_view_name": "LayoutView",
            "align_content": null,
            "align_items": null,
            "align_self": null,
            "border": null,
            "bottom": null,
            "display": null,
            "flex": null,
            "flex_flow": null,
            "grid_area": null,
            "grid_auto_columns": null,
            "grid_auto_flow": null,
            "grid_auto_rows": null,
            "grid_column": null,
            "grid_gap": null,
            "grid_row": null,
            "grid_template_areas": null,
            "grid_template_columns": null,
            "grid_template_rows": null,
            "height": null,
            "justify_content": null,
            "justify_items": null,
            "left": null,
            "margin": null,
            "max_height": null,
            "max_width": null,
            "min_height": null,
            "min_width": null,
            "object_fit": null,
            "object_position": null,
            "order": null,
            "overflow": null,
            "overflow_x": null,
            "overflow_y": null,
            "padding": null,
            "right": null,
            "top": null,
            "visibility": null,
            "width": null
          }
        },
        "62bc8df1d1c34a83bada6a10654bbf17": {
          "model_module": "@jupyter-widgets/controls",
          "model_name": "ButtonStyleModel",
          "model_module_version": "1.5.0",
          "state": {
            "_model_module": "@jupyter-widgets/controls",
            "_model_module_version": "1.5.0",
            "_model_name": "ButtonStyleModel",
            "_view_count": null,
            "_view_module": "@jupyter-widgets/base",
            "_view_module_version": "1.2.0",
            "_view_name": "StyleView",
            "button_color": null,
            "font_weight": ""
          }
        },
        "376e2ddc7b7a4f178a8f7860fe18f727": {
          "model_module": "@jupyter-widgets/output",
          "model_name": "OutputModel",
          "model_module_version": "1.0.0",
          "state": {
            "_dom_classes": [],
            "_model_module": "@jupyter-widgets/output",
            "_model_module_version": "1.0.0",
            "_model_name": "OutputModel",
            "_view_count": null,
            "_view_module": "@jupyter-widgets/output",
            "_view_module_version": "1.0.0",
            "_view_name": "OutputView",
            "layout": "IPY_MODEL_f203cf68553d495f84aa51585ef637b7",
            "msg_id": "",
            "outputs": []
          }
        },
        "f203cf68553d495f84aa51585ef637b7": {
          "model_module": "@jupyter-widgets/base",
          "model_name": "LayoutModel",
          "model_module_version": "1.2.0",
          "state": {
            "_model_module": "@jupyter-widgets/base",
            "_model_module_version": "1.2.0",
            "_model_name": "LayoutModel",
            "_view_count": null,
            "_view_module": "@jupyter-widgets/base",
            "_view_module_version": "1.2.0",
            "_view_name": "LayoutView",
            "align_content": null,
            "align_items": null,
            "align_self": null,
            "border": null,
            "bottom": null,
            "display": null,
            "flex": null,
            "flex_flow": null,
            "grid_area": null,
            "grid_auto_columns": null,
            "grid_auto_flow": null,
            "grid_auto_rows": null,
            "grid_column": null,
            "grid_gap": null,
            "grid_row": null,
            "grid_template_areas": null,
            "grid_template_columns": null,
            "grid_template_rows": null,
            "height": null,
            "justify_content": null,
            "justify_items": null,
            "left": null,
            "margin": null,
            "max_height": null,
            "max_width": null,
            "min_height": null,
            "min_width": null,
            "object_fit": null,
            "object_position": null,
            "order": null,
            "overflow": null,
            "overflow_x": null,
            "overflow_y": null,
            "padding": null,
            "right": null,
            "top": null,
            "visibility": null,
            "width": null
          }
        }
      }
    }
  },
  "cells": [
    {
      "cell_type": "code",
      "source": [
        "import glob\n",
        "import zipfile\n",
        "import pandas as pd\n",
        "import ipywidgets as widgets\n",
        "from IPython.display import display\n",
        "\n",
        "from google.colab import drive\n",
        "drive.mount('/content/drive')"
      ],
      "metadata": {
        "colab": {
          "base_uri": "https://localhost:8080/"
        },
        "id": "JSkIhte5wfgV",
        "outputId": "0c47aefa-a5f7-4c92-d0a8-9122080fd321"
      },
      "execution_count": 24,
      "outputs": [
        {
          "output_type": "stream",
          "name": "stdout",
          "text": [
            "Drive already mounted at /content/drive; to attempt to forcibly remount, call drive.mount(\"/content/drive\", force_remount=True).\n"
          ]
        }
      ]
    },
    {
      "cell_type": "code",
      "source": [
        "!unzip -o \"/content/drive/MyDrive/data/Arquivos CSV.zip\" -d \"/content/drive/MyDrive/data\""
      ],
      "metadata": {
        "colab": {
          "base_uri": "https://localhost:8080/"
        },
        "id": "vTXP3VhlwlqG",
        "outputId": "aa429cd7-0505-491d-c7f8-9e016096dfe4"
      },
      "execution_count": 25,
      "outputs": [
        {
          "output_type": "stream",
          "name": "stdout",
          "text": [
            "Archive:  /content/drive/MyDrive/data/Arquivos CSV.zip\n",
            "  inflating: /content/drive/MyDrive/data/Arquivos CSV/2016.csv  \n",
            "  inflating: /content/drive/MyDrive/data/Arquivos CSV/2017.csv  \n",
            "  inflating: /content/drive/MyDrive/data/Arquivos CSV/2018.csv  \n",
            "  inflating: /content/drive/MyDrive/data/Arquivos CSV/2019.csv  \n",
            "  inflating: /content/drive/MyDrive/data/Arquivos CSV/2020.csv  \n",
            "  inflating: /content/drive/MyDrive/data/Arquivos CSV/2021.csv  \n",
            "  inflating: /content/drive/MyDrive/data/Arquivos CSV/2022.csv  \n",
            "  inflating: /content/drive/MyDrive/data/Arquivos CSV/2023.csv  \n"
          ]
        }
      ]
    },
    {
      "cell_type": "code",
      "source": [
        "arquivos_csv = glob.glob('/content/drive/MyDrive/data/Arquivos CSV/*.csv')\n",
        "lista_arquivos = [\"/content/drive/MyDrive/data/Arquivos CSV/\" + arquivo.split('/')[-1] for arquivo in arquivos_csv]\n",
        "lista_arquivos.sort()"
      ],
      "metadata": {
        "id": "Zod32czRwpoe"
      },
      "execution_count": 26,
      "outputs": []
    },
    {
      "cell_type": "markdown",
      "source": [
        "## Filtragem dos CSVs"
      ],
      "metadata": {
        "id": "N0N20D1mDraM"
      }
    },
    {
      "cell_type": "code",
      "source": [
        "with open('/content/drive/MyDrive/data/Arquivos CSV/Impostos.txt', 'r') as arquivo:\n",
        "    impostos = arquivo.read().splitlines()"
      ],
      "metadata": {
        "id": "ndcMSftjDA-E"
      },
      "execution_count": 27,
      "outputs": []
    },
    {
      "cell_type": "code",
      "source": [
        "#@markdown Adicionando Novas Cidades\n",
        "arquivo_cidades = '/content/drive/MyDrive/data/Arquivos CSV/Cidades.txt'\n",
        "\n",
        "# Função para carregar a lista de cidades do arquivo\n",
        "def carregar_cidades():\n",
        "    try:\n",
        "        with open(arquivo_cidades, 'r') as arquivo:\n",
        "            return arquivo.read().splitlines()\n",
        "    except FileNotFoundError:\n",
        "        return []\n",
        "\n",
        "# Função para salvar a lista de cidades no arquivo\n",
        "def salvar_cidades(cidades):\n",
        "    with open(arquivo_cidades, 'w') as arquivo:\n",
        "        for cidade in cidades:\n",
        "            arquivo.write(cidade + '\\n')\n",
        "\n",
        "# Carrega a lista inicial de cidades\n",
        "cidades = carregar_cidades()\n",
        "\n",
        "# Criação dos widgets\n",
        "texto_cidade = widgets.Text(\n",
        "    description=\"Cidade:\",\n",
        "    placeholder=\"Digite o nome da Cidade (ex: Nome da Cidade - UF)\",  # Coloca o texto como placeholder\n",
        "    layout=widgets.Layout(width='500px')  # Aumenta a largura do campo de texto\n",
        ")\n",
        "botao_adicionar = widgets.Button(description=\"Adicionar Cidade\")\n",
        "output = widgets.Output()\n",
        "\n",
        "# Função chamada ao clicar no botão\n",
        "def on_button_clicked(b):\n",
        "    nova_cidade = texto_cidade.value.strip()  # Obtém o texto do campo\n",
        "    if nova_cidade and nova_cidade not in cidades:  # Verifica se o campo não está vazio e evita duplicatas\n",
        "        cidades.append(nova_cidade)  # Adiciona a nova cidade à lista\n",
        "        salvar_cidades(cidades)  # Salva a lista atualizada no arquivo\n",
        "        with output:\n",
        "            output.clear_output()  # Limpa o output anterior\n",
        "            print(f\"Cidade '{nova_cidade}' adicionada com sucesso!\")\n",
        "            print(f\"Lista de Cidades: '{cidades}'\")\n",
        "    elif nova_cidade in cidades:\n",
        "        with output:\n",
        "            output.clear_output()\n",
        "            print(f\"A cidade '{nova_cidade}' já está na lista.\")\n",
        "            print(f\"Lista de Cidades: '{cidades}'\")\n",
        "    else:\n",
        "        with output:\n",
        "            output.clear_output()\n",
        "            print(\"Digite um nome de cidade válido.\")\n",
        "    texto_cidade.value = \"\"  # Limpa o campo de texto após a adição\n",
        "\n",
        "# Configura o evento de clique do botão\n",
        "botao_adicionar.on_click(on_button_clicked)\n",
        "\n",
        "# Exibe os widgets\n",
        "display(texto_cidade, botao_adicionar, output)"
      ],
      "metadata": {
        "colab": {
          "base_uri": "https://localhost:8080/",
          "height": 81,
          "referenced_widgets": [
            "7ee3118d395c4326b7bfbb9d1be65bbf",
            "3f9e658cd9b44b39b977077674026b1c",
            "2a7c0aa9899f47eb9c7d7cae9d2a070f",
            "ad740312823c42a49517dcf76bff7a2a",
            "577d3aa31a8e43d49adaa90eb9adddda",
            "62bc8df1d1c34a83bada6a10654bbf17",
            "376e2ddc7b7a4f178a8f7860fe18f727",
            "f203cf68553d495f84aa51585ef637b7"
          ]
        },
        "cellView": "form",
        "id": "DoPQcS5wXM2-",
        "outputId": "515fdedd-0188-4ce2-ab65-d716d46f35ed"
      },
      "execution_count": 28,
      "outputs": [
        {
          "output_type": "display_data",
          "data": {
            "text/plain": [
              "Text(value='', description='Cidade:', layout=Layout(width='500px'), placeholder='Digite o nome da Cidade (ex: …"
            ],
            "application/vnd.jupyter.widget-view+json": {
              "version_major": 2,
              "version_minor": 0,
              "model_id": "7ee3118d395c4326b7bfbb9d1be65bbf"
            }
          },
          "metadata": {}
        },
        {
          "output_type": "display_data",
          "data": {
            "text/plain": [
              "Button(description='Adicionar Cidade', style=ButtonStyle())"
            ],
            "application/vnd.jupyter.widget-view+json": {
              "version_major": 2,
              "version_minor": 0,
              "model_id": "ad740312823c42a49517dcf76bff7a2a"
            }
          },
          "metadata": {}
        },
        {
          "output_type": "display_data",
          "data": {
            "text/plain": [
              "Output()"
            ],
            "application/vnd.jupyter.widget-view+json": {
              "version_major": 2,
              "version_minor": 0,
              "model_id": "376e2ddc7b7a4f178a8f7860fe18f727"
            }
          },
          "metadata": {}
        }
      ]
    },
    {
      "cell_type": "code",
      "source": [
        "for arquivo in lista_arquivos:\n",
        "    df = pd.read_csv(arquivo, sep=';', encoding='latin1', header=5)\n",
        "    df['Valor'] = df['Valor'].str.replace(',', '.').astype(float)\n",
        "    filtro_cidades = df['Instituição'].str.contains('|'.join(cidades), case=False, na=False)\n",
        "    filtro_impostos = df['Conta'].str.contains('|'.join(impostos), case=False, na=False)\n",
        "    df_filtrado = df[filtro_cidades & filtro_impostos]\n",
        "    df_filtrado.to_csv(arquivo, index=False)"
      ],
      "metadata": {
        "id": "9UqdFJvcDVqX"
      },
      "execution_count": 29,
      "outputs": []
    },
    {
      "cell_type": "markdown",
      "source": [
        "## Concatenação dos CSVs"
      ],
      "metadata": {
        "id": "MrvfmJVJDw8a"
      }
    },
    {
      "cell_type": "code",
      "source": [
        "lista_dfs = []\n",
        "ano = 2016\n",
        "\n",
        "for arquivo in lista_arquivos:\n",
        "    df = pd.read_csv(arquivo)\n",
        "    df['Ano'] = ano\n",
        "    ano += 1\n",
        "    lista_dfs.append(df)"
      ],
      "metadata": {
        "id": "7f-uz07iDzgM"
      },
      "execution_count": 30,
      "outputs": []
    },
    {
      "cell_type": "code",
      "source": [
        "df_geral = pd.concat(lista_dfs, ignore_index=True)\n",
        "df_geral.drop(columns=['Identificador da Conta'], inplace=True)\n",
        "df_geral['Coluna'] = df_geral['Coluna'].astype(str)\n",
        "\n",
        "df_mensal = df_geral.loc[~df_geral['Coluna'].str.contains(\"PREVISÃO|TOTAL\")].copy()"
      ],
      "metadata": {
        "id": "2EjPujj5D4-_"
      },
      "execution_count": 31,
      "outputs": []
    },
    {
      "cell_type": "code",
      "source": [
        "mes_map = {\n",
        "    '<MR>': 12,      # Dezembro\n",
        "    '<MR-1>': 11,    # Novembro\n",
        "    '<MR-2>': 10,    # Outubro\n",
        "    '<MR-3>': 9,     # Setembro\n",
        "    '<MR-4>': 8,     # Agosto\n",
        "    '<MR-5>': 7,     # Julho\n",
        "    '<MR-6>': 6,     # Junho\n",
        "    '<MR-7>': 5,     # Maio\n",
        "    '<MR-8>': 4,     # Abril\n",
        "    '<MR-9>': 3,     # Março\n",
        "    '<MR-10>': 2,    # Fevereiro\n",
        "    '<MR-11>': 1     # Janeiro\n",
        "}\n",
        "df_mensal['Coluna'] = df_mensal['Coluna'].map(mes_map)\n",
        "df_mensal['Coluna'] = df_mensal['Coluna'].astype(str)\n",
        "df_mensal.rename(columns={'Coluna': 'Mês'}, inplace=True)\n",
        "df_mensal.reset_index(drop=True, inplace=True)"
      ],
      "metadata": {
        "id": "n9EmZOXhEAy4"
      },
      "execution_count": 32,
      "outputs": []
    },
    {
      "cell_type": "code",
      "source": [
        "df_mensal.to_csv('/content/drive/MyDrive/data/Agregado/Dados_Agregados_Mensal.csv', index=False)"
      ],
      "metadata": {
        "id": "07p9nN4qEDRo"
      },
      "execution_count": 33,
      "outputs": []
    }
  ]
}